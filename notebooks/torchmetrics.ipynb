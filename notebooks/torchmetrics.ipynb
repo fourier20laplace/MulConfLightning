{
 "cells": [
  {
   "cell_type": "code",
   "execution_count": 2,
   "metadata": {},
   "outputs": [
    {
     "data": {
      "text/plain": [
       "tensor(0.7500)"
      ]
     },
     "execution_count": 2,
     "metadata": {},
     "output_type": "execute_result"
    }
   ],
   "source": [
    "from torch import tensor\n",
    "from torchmetrics.classification import MulticlassAccuracy\n",
    "target = tensor([2, 1, 0, 0])\n",
    "preds = tensor([2, 1, 0, 1])\n",
    "metric = MulticlassAccuracy(num_classes=3,average='micro')\n",
    "metric(preds, target)"
   ]
  },
  {
   "cell_type": "code",
   "execution_count": 3,
   "metadata": {},
   "outputs": [
    {
     "data": {
      "text/plain": [
       "tensor(0.8333)"
      ]
     },
     "execution_count": 3,
     "metadata": {},
     "output_type": "execute_result"
    }
   ],
   "source": [
    "from torch import tensor\n",
    "from torchmetrics.classification import MulticlassAccuracy\n",
    "target = tensor([2, 1, 0, 0])\n",
    "preds = tensor([2, 1, 0, 1])\n",
    "metric = MulticlassAccuracy(num_classes=3,average='macro')\n",
    "metric(preds, target)"
   ]
  },
  {
   "cell_type": "code",
   "execution_count": 6,
   "metadata": {},
   "outputs": [
    {
     "data": {
      "text/plain": [
       "tensor([1., 1., 1., 0.])"
      ]
     },
     "execution_count": 6,
     "metadata": {},
     "output_type": "execute_result"
    }
   ],
   "source": [
    "from torch import tensor\n",
    "from torchmetrics.classification import MulticlassAccuracy\n",
    "target = tensor([[2], [1], [0], [0]])\n",
    "preds = tensor([[2], [1], [0], [1]])\n",
    "metric = MulticlassAccuracy(num_classes=3,average='macro',multidim_average='samplewise')\n",
    "metric(preds, target)"
   ]
  },
  {
   "cell_type": "code",
   "execution_count": 2,
   "metadata": {},
   "outputs": [
    {
     "data": {
      "text/plain": [
       "tensor([0.3333, 0.1667])"
      ]
     },
     "execution_count": 2,
     "metadata": {},
     "output_type": "execute_result"
    }
   ],
   "source": [
    "from torchmetrics.classification import BinaryAccuracy\n",
    "from torch import tensor\n",
    "target = tensor([[[0, 1], [1, 0], [0, 1]], [[1, 1], [0, 0], [1, 0]]])\n",
    "preds = tensor([[[0.59, 0.91], [0.91, 0.99], [0.63, 0.04]],\n",
    "                [[0.38, 0.04], [0.86, 0.780], [0.45, 0.37]]])\n",
    "metric = BinaryAccuracy(multidim_average='samplewise')\n",
    "metric(preds, target)\n"
   ]
  },
  {
   "cell_type": "code",
   "execution_count": 4,
   "metadata": {},
   "outputs": [
    {
     "name": "stdout",
     "output_type": "stream",
     "text": [
      "tensor([0.6667, 1.0000, 0.3333])\n"
     ]
    }
   ],
   "source": [
    "from torchmetrics.classification import BinaryAccuracy\n",
    "import torch\n",
    "\n",
    "# 假设有 3 个样本，2 个类别\n",
    "target = torch.tensor([[0, 1,1], [1, 0,1], [0, 1,1]])  # 标签\n",
    "preds = torch.tensor([[0.59, 0.91,0.91], [0.91, 0.2,0.91], [0.63, 0.04,0.91]])  # 预测概率\n",
    "\n",
    "# 初始化 BinaryAccuracy 指标\n",
    "metric = BinaryAccuracy(multidim_average='samplewise')  # 按样本维度计算平均值\n",
    "accuracy = metric(preds, target)\n",
    "\n",
    "print(accuracy)"
   ]
  },
  {
   "cell_type": "markdown",
   "metadata": {},
   "source": []
  }
 ],
 "metadata": {
  "kernelspec": {
   "display_name": "enzpyg",
   "language": "python",
   "name": "python3"
  },
  "language_info": {
   "codemirror_mode": {
    "name": "ipython",
    "version": 3
   },
   "file_extension": ".py",
   "mimetype": "text/x-python",
   "name": "python",
   "nbconvert_exporter": "python",
   "pygments_lexer": "ipython3",
   "version": "3.8.19"
  }
 },
 "nbformat": 4,
 "nbformat_minor": 2
}
