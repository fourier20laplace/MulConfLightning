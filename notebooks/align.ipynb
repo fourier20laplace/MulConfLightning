{
 "cells": [
  {
   "cell_type": "code",
   "execution_count": null,
   "metadata": {},
   "outputs": [],
   "source": []
  },
  {
   "cell_type": "code",
   "execution_count": 3,
   "metadata": {},
   "outputs": [
    {
     "name": "stdout",
     "output_type": "stream",
     "text": [
      "/home/lmh/projects_dir/Antibody_Mutation/data/SKEMPIv2/PDBs_fixed/af3_sp2_output/1a4y_sp2_rand0.2/250419_233255/1a4y_sp2_rand0.2_250419_233255_model.cif\n",
      "/home/lmh/projects_dir/Antibody_Mutation/data/SKEMPIv2/PDBs_fixed/af3_sp2_output/1a4y_sp2_rand0.2/250419_233443/1a4y_sp2_rand0.2_250419_233443_model.cif\n",
      "/home/lmh/projects_dir/Antibody_Mutation/data/SKEMPIv2/PDBs_fixed/af3_sp2_output/1a4y_sp2_rand0.2/250419_233605/1a4y_sp2_rand0.2_250419_233605_model.cif\n",
      "/home/lmh/projects_dir/Antibody_Mutation/data/SKEMPIv2/PDBs_fixed/af3_sp2_output/1a4y_sp2_rand0.2/250419_233728/1a4y_sp2_rand0.2_250419_233728_model.cif\n",
      "/home/lmh/projects_dir/Antibody_Mutation/data/SKEMPIv2/PDBs_fixed/af3_sp2_output/1a4y_sp2_rand0.2/250419_233850/1a4y_sp2_rand0.2_250419_233850_model.cif\n",
      "/home/lmh/projects_dir/Antibody_Mutation/data/SKEMPIv2/PDBs_fixed/af3_sp2_output/1a4y_sp2_rand0.2/250419_234013/1a4y_sp2_rand0.2_250419_234013_model.cif\n"
     ]
    }
   ],
   "source": [
    "conformers_path=\"/home/lmh/projects_dir/Antibody_Mutation/data/SKEMPIv2/PDBs_fixed/af3_sp2_output/1a4y_sp2_rand0.2\"\n",
    "import os\n",
    "import shutil\n",
    "pt_dict={}\n",
    "for subdir in os.listdir(conformers_path):\n",
    "    for file in os.listdir(os.path.join(conformers_path, subdir)):\n",
    "        if file.endswith(\".cif\"):\n",
    "            # print(file)\n",
    "            # print(os.path.join(conformers_path, subdir, file))\n",
    "            source_path = os.path.join(conformers_path, subdir, file)\n",
    "            target_path = os.path.join(conformers_path, subdir, file.replace(\".cif\", \".pdb\"))\n",
    "            shutil.copy(source_path, target_path)\n",
    "# ref_path=\"/home/lmh/projects_dir/Antibody_Mutation/data/SKEMPIv2/PDBs_fixed/1A4Y.pdb\"\n",
    "\n",
    "\n"
   ]
  },
  {
   "cell_type": "code",
   "execution_count": 4,
   "metadata": {},
   "outputs": [
    {
     "name": "stdout",
     "output_type": "stream",
     "text": [
      "目录存在: /home/lmh/projects_dir/Antibody_Mutation/data/SKEMPIv2/PDBs_fixed/af3_sp2_output/1a4y_sp2_rand0.2/gather\n"
     ]
    }
   ],
   "source": [
    "conformers_path=\"/home/lmh/projects_dir/Antibody_Mutation/data/SKEMPIv2/PDBs_fixed/af3_sp2_output/1a4y_sp2_rand0.2\"\n",
    "os.makedirs(os.path.join(conformers_path, \"gather\"), exist_ok=True)\n",
    "gather_path = os.path.join(conformers_path, \"gather\")\n",
    "\n",
    "if os.path.exists(gather_path):\n",
    "    print(f\"目录存在: {gather_path}\")\n",
    "else:\n",
    "    print(f\"目录不存在: {gather_path}\")"
   ]
  },
  {
   "cell_type": "code",
   "execution_count": 6,
   "metadata": {},
   "outputs": [],
   "source": [
    "import os\n",
    "import shutil\n",
    "conformers_path=\"/home/lmh/projects_dir/Antibody_Mutation/data/SKEMPIv2/PDBs_fixed/af3_sp2_output/1a4y_sp2_rand0.2\"\n",
    "os.makedirs(os.path.join(conformers_path, \"gather\"), exist_ok=True)\n",
    "count = 0\n",
    "max_files = 5\n",
    "\n",
    "for subdir in os.listdir(conformers_path):\n",
    "    subdir_path = os.path.join(conformers_path, subdir)\n",
    "    if not os.path.isdir(subdir_path) or subdir_path.startswith(\"gather\"):\n",
    "        continue\n",
    "\n",
    "    for file in os.listdir(subdir_path):\n",
    "        if file.endswith(\".cif\"):\n",
    "            source_path = os.path.join(subdir_path, file)\n",
    "            target_path = os.path.join(conformers_path,\"gather\", file)\n",
    "            shutil.copy(source_path, target_path)\n",
    "            count += 1\n",
    "            if count >= max_files:\n",
    "                break\n",
    "    if count >= max_files:\n",
    "        break\n"
   ]
  },
  {
   "cell_type": "code",
   "execution_count": null,
   "metadata": {},
   "outputs": [],
   "source": [
    "import openbabel\n",
    "\n",
    "# Create an Open Babel object\n",
    "obConversion = openbabel.OBConversion()\n",
    "obConversion.SetInFormat(\"cif\")  # Assuming input is in SDF format\n",
    "\n",
    "# Load conformers\n",
    "conformers = []\n",
    "for i in range(1, 6):  # Assuming conformer1.sdf, conformer2.sdf, ...\n",
    "    mol = openbabel.OBMol()\n",
    "    obConversion.ReadFile(mol, f'conformer{i}.sdf')\n",
    "    conformers.append(mol)\n",
    "\n",
    "# Align all conformers to the first one\n",
    "for i, mol in enumerate(conformers[1:], 1):\n",
    "    conformers[0].Align(mol)\n",
    "\n",
    "# Save the aligned conformers as PDB\n",
    "obConversion.SetOutFormat(\"pdb\")\n",
    "obConversion.WriteFile(conformers[0], 'aligned_conformer.pdb')"
   ]
  },
  {
   "cell_type": "code",
   "execution_count": null,
   "metadata": {},
   "outputs": [
    {
     "ename": "",
     "evalue": "",
     "output_type": "error",
     "traceback": [
      "\u001b[1;31mFailed to start the Kernel. \n",
      "\u001b[1;31mImportError: /home/lmh/anaconda3/envs/pymol/lib/python3.11/lib-dynload/_sqlite3.cpython-311-x86_64-linux-gnu.so: undefined symbol: sqlite3_deserialize. \n",
      "\u001b[1;31mView Jupyter <a href='command:jupyter.viewOutput'>log</a> for further details."
     ]
    }
   ],
   "source": [
    "import openbabel\n",
    "\n",
    "# Create an Open Babel object\n",
    "obConversion = openbabel.OBConversion()\n",
    "obConversion.SetInFormat(\"sdf\")  # Assuming input is in SDF format\n",
    "ref_path=\"/home/lmh/projects_dir/Antibody_Mutation/data/SKEMPIv2/PDBs_fixed/1A4Y.pdb\"\n",
    "conf_path=\"/home/lmh/projects_dir/Antibody_Mutation/data/SKEMPIv2/PDBs_fixed/af3_sp2_output/1a4y_sp2_rand0.2/250419_233850/1a4y_sp2_rand0.2_250419_233850_model.cif\"\n",
    "\n",
    "mol_ref = openbabel.OBMol()\n",
    "obConversion.ReadFile(mol_ref, ref_path)\n",
    "\n",
    "# Align all conformers to the first one\n",
    "mol = openbabel.OBMol()\n",
    "obConversion.ReadFile(mol, conf_path)\n",
    "mol.Align(mol_ref)\n",
    "\n",
    "# Save the aligned conformers as PDB\n",
    "obConversion.SetOutFormat(\"pdb\")\n",
    "obConversion.WriteFile(mol, '/home/lmh/projects_dir/af3/alphafold3/MyAnalyze/analyze_dir/tstopenbabel/aligned_conformer.pdb')\n"
   ]
  }
 ],
 "metadata": {
  "kernelspec": {
   "display_name": "enzpyg39L",
   "language": "python",
   "name": "python3"
  },
  "language_info": {
   "codemirror_mode": {
    "name": "ipython",
    "version": 3
   },
   "file_extension": ".py",
   "mimetype": "text/x-python",
   "name": "python",
   "nbconvert_exporter": "python",
   "pygments_lexer": "ipython3",
   "version": "3.9.21"
  }
 },
 "nbformat": 4,
 "nbformat_minor": 2
}
