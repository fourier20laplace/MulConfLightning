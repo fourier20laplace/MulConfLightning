{
 "cells": [
  {
   "cell_type": "code",
   "execution_count": 3,
   "metadata": {},
   "outputs": [
    {
     "name": "stdout",
     "output_type": "stream",
     "text": [
      "tensor([[[[ 0.7937, -1.1027],\n",
      "          [ 1.0512, -1.6698]],\n",
      "\n",
      "         [[ 0.6250, -2.5447],\n",
      "          [-0.5244, -0.4228]],\n",
      "\n",
      "         [[-1.3272, -0.2828],\n",
      "          [ 0.4893, -0.4574]]],\n",
      "\n",
      "\n",
      "        [[[-0.8948, -1.1673],\n",
      "          [-0.7252,  0.5868]],\n",
      "\n",
      "         [[-1.6518,  1.6362],\n",
      "          [ 0.9289,  0.2038]],\n",
      "\n",
      "         [[-0.9370, -0.0639],\n",
      "          [-0.6732,  0.4314]]]])\n",
      "torch.Size([2, 3, 2, 2])\n",
      "tensor([[[[ 0.7937, -1.1027],\n",
      "          [ 1.0512, -1.6698]],\n",
      "\n",
      "         [[ 0.6250, -2.5447],\n",
      "          [-0.5244, -0.4228]],\n",
      "\n",
      "         [[-1.3272, -0.2828],\n",
      "          [ 0.4893, -0.4574]],\n",
      "\n",
      "         [[ 0.0000,  0.0000],\n",
      "          [ 0.0000,  0.0000]]],\n",
      "\n",
      "\n",
      "        [[[-0.8948, -1.1673],\n",
      "          [-0.7252,  0.5868]],\n",
      "\n",
      "         [[-1.6518,  1.6362],\n",
      "          [ 0.9289,  0.2038]],\n",
      "\n",
      "         [[-0.9370, -0.0639],\n",
      "          [-0.6732,  0.4314]],\n",
      "\n",
      "         [[ 0.0000,  0.0000],\n",
      "          [ 0.0000,  0.0000]]]])\n",
      "torch.Size([2, 4, 2, 2])\n"
     ]
    }
   ],
   "source": [
    "import torch\n",
    "import torch.nn.functional as F\n",
    "t4d=torch.randn(2,3,2,2)\n",
    "print(t4d)\n",
    "print(t4d.shape)\n",
    "p1d=(0,0,0,0,0,1)\n",
    "out=F.pad(t4d,p1d,mode='constant',value=0)\n",
    "print(out)\n",
    "print(out.shape)"
   ]
  },
  {
   "cell_type": "code",
   "execution_count": null,
   "metadata": {},
   "outputs": [],
   "source": []
  }
 ],
 "metadata": {
  "kernelspec": {
   "display_name": "enzpyg",
   "language": "python",
   "name": "python3"
  },
  "language_info": {
   "codemirror_mode": {
    "name": "ipython",
    "version": 3
   },
   "file_extension": ".py",
   "mimetype": "text/x-python",
   "name": "python",
   "nbconvert_exporter": "python",
   "pygments_lexer": "ipython3",
   "version": "3.8.19"
  }
 },
 "nbformat": 4,
 "nbformat_minor": 2
}
